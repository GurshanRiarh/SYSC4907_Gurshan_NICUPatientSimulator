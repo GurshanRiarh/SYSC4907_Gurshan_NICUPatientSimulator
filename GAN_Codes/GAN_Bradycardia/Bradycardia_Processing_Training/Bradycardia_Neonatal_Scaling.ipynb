{
 "cells": [
  {
   "cell_type": "code",
   "execution_count": 73,
   "metadata": {},
   "outputs": [],
   "source": [
    "import pandas as pd\n",
    "import numpy as np"
   ]
  },
  {
   "cell_type": "code",
   "execution_count": 74,
   "metadata": {},
   "outputs": [],
   "source": [
    "# Load the adult BPM dataset\n",
    "bpm_file = \"/home/Gurshan.R/Documents/GitHub/SYSC4907_Capstone/GAN_Bradycardia/CSV_DATA/BPM_8hr_5min.csv\"\n",
    "df = pd.read_csv(bpm_file, header=None)  # Assuming no headers in file"
   ]
  },
  {
   "cell_type": "code",
   "execution_count": 75,
   "metadata": {},
   "outputs": [],
   "source": [
    "# Define adult and neonatal BPM ranges\n",
    "adult_normal_range = (60, 100)\n",
    "adult_brady_range = (df.min().min(), 60)  # Anything <60 is bradycardia\n",
    "neonatal_normal_range = (100, 160)  # Shift lower to allow more bradycardia\n",
    "neonatal_brady_range = (60, 90)  # Increase bradycardia severity"
   ]
  },
  {
   "cell_type": "code",
   "execution_count": 76,
   "metadata": {},
   "outputs": [],
   "source": [
    "# Function to rescale values with enhanced bradycardia effect\n",
    "def rescale_bpm(data, old_min, old_max, new_min, new_max):\n",
    "    return ((data - old_min) / (old_max - old_min)) * (new_max - new_min) + new_min"
   ]
  },
  {
   "cell_type": "code",
   "execution_count": 77,
   "metadata": {},
   "outputs": [],
   "source": [
    "# Apply rescaling\n",
    "df_neonatal = df.copy()\n",
    "# Scale normal BPM values (60-100) -> Neonatal normal range (100-160)\n",
    "df_neonatal[df >= 60] = rescale_bpm(df[df >= 60], *adult_normal_range, *neonatal_normal_range)\n",
    "\n",
    "# Scale bradycardia BPM values (<60) -> Neonatal bradycardia range (30-85)\n",
    "df_neonatal[df < 60] = rescale_bpm(df[df < 60], *adult_brady_range, *neonatal_brady_range)"
   ]
  },
  {
   "cell_type": "code",
   "execution_count": 78,
   "metadata": {},
   "outputs": [],
   "source": [
    "# Introduce slight random variation to bradycardia values to prevent uniform scaling\n",
    "brady_mask = df_neonatal < 85\n",
    "df_neonatal[brady_mask] += np.random.uniform(-5, 5, size=df_neonatal[brady_mask].shape)"
   ]
  },
  {
   "cell_type": "code",
   "execution_count": 79,
   "metadata": {},
   "outputs": [
    {
     "name": "stdout",
     "output_type": "stream",
     "text": [
      "Neonatal BPM data saved: /home/Gurshan.R/Documents/GitHub/SYSC4907_Capstone/GAN_Bradycardia/Scaled_CSV_DATA/BPM_8hr_5min_Neonatal.csv\n"
     ]
    }
   ],
   "source": [
    "# Save the rescaled neonatal dataset\n",
    "neonatal_bpm_file = \"/home/Gurshan.R/Documents/GitHub/SYSC4907_Capstone/GAN_Bradycardia/Scaled_CSV_DATA/BPM_8hr_5min_Neonatal.csv\"\n",
    "df_neonatal.to_csv(neonatal_bpm_file, index=False)\n",
    "\n",
    "print(f\"Neonatal BPM data saved: {neonatal_bpm_file}\")"
   ]
  },
  {
   "cell_type": "markdown",
   "metadata": {},
   "source": [
    "Printing instances of bradycardia and severe bradycardia in the neonatal dataset:"
   ]
  },
  {
   "cell_type": "code",
   "execution_count": 80,
   "metadata": {},
   "outputs": [
    {
     "name": "stdout",
     "output_type": "stream",
     "text": [
      "\n",
      "Bradycardia Instances (BPM < 100):\n",
      "    Row  Column        BPM\n",
      "0     3       7  76.198411\n",
      "1     3      13  79.590951\n",
      "2     3      78  89.850307\n",
      "3     5      23  78.066394\n",
      "4     5      30  83.448040\n",
      "5     5      32  73.378475\n",
      "6     5      33  81.898846\n",
      "7     5      34  68.770283\n",
      "8     5      45  70.103878\n",
      "9     5      49  74.609193\n",
      "10    5      57  79.021338\n",
      "11    5      58  77.006583\n",
      "12    5      62  74.792954\n",
      "13    5      81  88.515411\n",
      "14    5      84  89.814712\n",
      "15    5      85  66.920340\n",
      "16    5      86  63.614435\n",
      "17    5      88  74.325567\n",
      "18    9      10  85.996606\n",
      "19    9      23  69.833752\n",
      "20    9      30  68.075274\n",
      "21    9      32  69.210798\n",
      "22    9      33  65.228224\n",
      "23    9      34  68.799676\n",
      "24    9      35  88.570799\n",
      "25    9      45  68.701754\n",
      "26    9      49  74.966866\n",
      "27    9      57  84.708231\n",
      "28    9      58  77.560152\n",
      "29    9      61  76.360744\n",
      "30    9      62  71.790191\n",
      "31    9      82  85.704802\n",
      "32    9      85  60.252976\n",
      "33    9      86  57.223835\n",
      "34    9      88  82.632721\n",
      "\n",
      "Severe Bradycardia Instances (BPM < 80):\n",
      "    Row  Column        BPM\n",
      "0     3       7  76.198411\n",
      "1     3      13  79.590951\n",
      "3     5      23  78.066394\n",
      "5     5      32  73.378475\n",
      "7     5      34  68.770283\n",
      "8     5      45  70.103878\n",
      "9     5      49  74.609193\n",
      "10    5      57  79.021338\n",
      "11    5      58  77.006583\n",
      "12    5      62  74.792954\n",
      "15    5      85  66.920340\n",
      "16    5      86  63.614435\n",
      "17    5      88  74.325567\n",
      "19    9      23  69.833752\n",
      "20    9      30  68.075274\n",
      "21    9      32  69.210798\n",
      "22    9      33  65.228224\n",
      "23    9      34  68.799676\n",
      "25    9      45  68.701754\n",
      "26    9      49  74.966866\n",
      "28    9      58  77.560152\n",
      "29    9      61  76.360744\n",
      "30    9      62  71.790191\n",
      "32    9      85  60.252976\n",
      "33    9      86  57.223835\n"
     ]
    }
   ],
   "source": [
    "import pandas as pd\n",
    "\n",
    "# Load the neonatal BPM dataset\n",
    "neonatal_bpm_file = \"/home/Gurshan.R/Documents/GitHub/SYSC4907_Capstone/GAN_Bradycardia/Scaled_CSV_DATA/BPM_8hr_5min_Neonatal.csv\"\n",
    "df_neonatal = pd.read_csv(neonatal_bpm_file, header=None)\n",
    "\n",
    "# Remove the first row if it contains index-like values\n",
    "if (df_neonatal.iloc[0] == range(96)).all():  # Check if first row is just index values\n",
    "    df_neonatal = df_neonatal.iloc[1:].reset_index(drop=True)  # Remove it\n",
    "\n",
    "# Convert to numeric to ensure proper processing\n",
    "df_neonatal = df_neonatal.apply(pd.to_numeric, errors=\"coerce\")\n",
    "\n",
    "# Define neonatal bradycardia thresholds\n",
    "brady_threshold = 100\n",
    "severe_brady_threshold = 80\n",
    "\n",
    "# Identify bradycardia instances (BPM < 100)\n",
    "bradycardia_instances = df_neonatal[df_neonatal < brady_threshold].stack().reset_index()\n",
    "bradycardia_instances.columns = [\"Row\", \"Column\", \"BPM\"]\n",
    "\n",
    "# Identify severe bradycardia instances (BPM < 80)\n",
    "severe_brady_instances = bradycardia_instances[bradycardia_instances[\"BPM\"] < severe_brady_threshold]\n",
    "\n",
    "# Print the detected bradycardia instances\n",
    "print(\"\\nBradycardia Instances (BPM < 100):\")\n",
    "print(bradycardia_instances)\n",
    "\n",
    "print(\"\\nSevere Bradycardia Instances (BPM < 80):\")\n",
    "print(severe_brady_instances)\n"
   ]
  }
 ],
 "metadata": {
  "kernelspec": {
   "display_name": "Python 3",
   "language": "python",
   "name": "python3"
  },
  "language_info": {
   "codemirror_mode": {
    "name": "ipython",
    "version": 3
   },
   "file_extension": ".py",
   "mimetype": "text/x-python",
   "name": "python",
   "nbconvert_exporter": "python",
   "pygments_lexer": "ipython3",
   "version": "3.13.2"
  }
 },
 "nbformat": 4,
 "nbformat_minor": 2
}
