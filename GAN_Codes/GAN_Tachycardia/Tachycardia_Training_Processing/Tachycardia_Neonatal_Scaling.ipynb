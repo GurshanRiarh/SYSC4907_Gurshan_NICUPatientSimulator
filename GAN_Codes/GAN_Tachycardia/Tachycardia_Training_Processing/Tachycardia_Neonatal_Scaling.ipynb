{
 "cells": [
  {
   "cell_type": "code",
   "execution_count": 76,
   "metadata": {},
   "outputs": [],
   "source": [
    "import pandas as pd\n",
    "import numpy as np"
   ]
  },
  {
   "cell_type": "code",
   "execution_count": 77,
   "metadata": {},
   "outputs": [],
   "source": [
    "# Load the bradycardia BPM dataset (to be rescaled for tachycardia)\n",
    "bpm_file = \"/home/Gurshan.R/Documents/GitHub/SYSC4907_Capstone/GAN_Tachycardia/CSV_DATA/BPM_8hr_5min.csv\"\n",
    "df = pd.read_csv(bpm_file, header=None)  # Assuming no headers in file"
   ]
  },
  {
   "cell_type": "code",
   "execution_count": 78,
   "metadata": {},
   "outputs": [],
   "source": [
    "# Define original adult BPM ranges and the new neonatal tachycardia range\n",
    "adult_normal_range = (60, 100)\n",
    "adult_tachycardia_range = (80, 180)  # Tachycardia in adults is typically >100 BPM, lower lower bound for more tachycardia\n",
    "neonatal_normal_range = (100, 180)\n",
    "neonatal_tachycardia_range = (180, 500)  # Neonatal tachycardia BPM range, raise upper bound for more tachycardia"
   ]
  },
  {
   "cell_type": "code",
   "execution_count": 79,
   "metadata": {},
   "outputs": [],
   "source": [
    "# Function to rescale values to the new range\n",
    "def rescale_bpm(data, old_min, old_max, new_min, new_max):\n",
    "    return ((data - old_min) / (old_max - old_min)) * (new_max - new_min) + new_min"
   ]
  },
  {
   "cell_type": "code",
   "execution_count": 80,
   "metadata": {},
   "outputs": [],
   "source": [
    "# Apply rescaling for tachycardia\n",
    "df_tachycardia = df.copy()\n",
    "df_tachycardia[df >= 100] = rescale_bpm(df[df >= 100], *adult_tachycardia_range, *neonatal_tachycardia_range)\n",
    "\n",
    "# Scale normal BPM values (60-100) -> Neonatal normal range (100-160)\n",
    "df_tachycardia[df < 80] = rescale_bpm(df[df < 80], *adult_normal_range, *neonatal_normal_range)"
   ]
  },
  {
   "cell_type": "code",
   "execution_count": 81,
   "metadata": {},
   "outputs": [],
   "source": [
    "# Introduce additional random spikes to tachycardia\n",
    "tachycardia_mask = df_tachycardia > 160\n",
    "df_tachycardia[tachycardia_mask] += np.random.uniform(5, 15, size=df_tachycardia[tachycardia_mask].shape)"
   ]
  },
  {
   "cell_type": "code",
   "execution_count": 82,
   "metadata": {},
   "outputs": [],
   "source": [
    "# # Introduce slight random variation to tachycardia values\n",
    "# tachy_mask = df_tachycardia > 160\n",
    "# df_tachycardia[tachy_mask] += np.random.uniform(-5, 5, size=df_tachycardia[tachy_mask].shape)"
   ]
  },
  {
   "cell_type": "code",
   "execution_count": 83,
   "metadata": {},
   "outputs": [
    {
     "name": "stdout",
     "output_type": "stream",
     "text": [
      "Neonatal Tachycardia BPM data saved: /home/Gurshan.R/Documents/GitHub/SYSC4907_Capstone/GAN_Tachycardia/Scaled_CSV_DATA/BPM_Tachycardia_8hr_5min_Neonatal.csv\n"
     ]
    }
   ],
   "source": [
    "# Save the rescaled neonatal tachycardia dataset\n",
    "tachycardia_bpm_file = \"/home/Gurshan.R/Documents/GitHub/SYSC4907_Capstone/GAN_Tachycardia/Scaled_CSV_DATA/BPM_Tachycardia_8hr_5min_Neonatal.csv\"\n",
    "df_tachycardia.to_csv(tachycardia_bpm_file, index=False)\n",
    "\n",
    "print(f\"Neonatal Tachycardia BPM data saved: {tachycardia_bpm_file}\")"
   ]
  },
  {
   "cell_type": "code",
   "execution_count": 84,
   "metadata": {},
   "outputs": [
    {
     "name": "stdout",
     "output_type": "stream",
     "text": [
      "\n",
      "Tachycardia Instances (BPM > 160):\n",
      "    Row  Column         BPM\n",
      "0     3      33  259.420090\n",
      "1     5       8  271.499277\n",
      "2     5      15  284.836399\n",
      "3     5      16  273.012262\n",
      "4     5      20  259.549496\n",
      "5     5      21  267.222555\n",
      "6     5      27  267.775158\n",
      "7     5      71  255.574170\n",
      "8     5      72  267.235640\n",
      "9     5      75  261.211893\n",
      "10    9       7  268.168000\n",
      "11    9       8  281.050984\n",
      "12    9      15  292.941471\n",
      "13    9      16  271.667271\n",
      "14    9      20  265.320113\n",
      "15    9      21  255.907850\n",
      "16    9      27  258.319940\n",
      "17    9      51  251.954009\n",
      "18    9      69  258.839784\n",
      "19    9      71  254.381071\n",
      "20    9      72  279.023223\n",
      "21    9      75  270.921059\n",
      "\n",
      "Severe Tachycardia Instances (BPM > 230):\n",
      "    Row  Column         BPM\n",
      "0     3      33  259.420090\n",
      "1     5       8  271.499277\n",
      "2     5      15  284.836399\n",
      "3     5      16  273.012262\n",
      "4     5      20  259.549496\n",
      "5     5      21  267.222555\n",
      "6     5      27  267.775158\n",
      "7     5      71  255.574170\n",
      "8     5      72  267.235640\n",
      "9     5      75  261.211893\n",
      "10    9       7  268.168000\n",
      "11    9       8  281.050984\n",
      "12    9      15  292.941471\n",
      "13    9      16  271.667271\n",
      "14    9      20  265.320113\n",
      "15    9      21  255.907850\n",
      "16    9      27  258.319940\n",
      "17    9      51  251.954009\n",
      "18    9      69  258.839784\n",
      "19    9      71  254.381071\n",
      "20    9      72  279.023223\n",
      "21    9      75  270.921059\n"
     ]
    }
   ],
   "source": [
    "import pandas as pd\n",
    "\n",
    "# Load the neonatal BPM dataset for tachycardia\n",
    "neonatal_bpm_file = \"/home/Gurshan.R/Documents/GitHub/SYSC4907_Capstone/GAN_Tachycardia/Scaled_CSV_DATA/BPM_Tachycardia_8hr_5min_Neonatal.csv\"\n",
    "df_neonatal = pd.read_csv(neonatal_bpm_file, header=None)\n",
    "\n",
    "# Remove the first row if it contains index-like values\n",
    "if (df_neonatal.iloc[0] == range(96)).all():  # Check if first row is just index values\n",
    "    df_neonatal = df_neonatal.iloc[1:].reset_index(drop=True)  # Remove it\n",
    "\n",
    "# Convert to numeric to ensure proper processing\n",
    "df_neonatal = df_neonatal.apply(pd.to_numeric, errors=\"coerce\")\n",
    "\n",
    "# Define neonatal tachycardia thresholds\n",
    "tachycardia_threshold = 160\n",
    "severe_tachycardia_threshold = 230\n",
    "\n",
    "# Identify tachycardia instances (BPM > 160)\n",
    "tachycardia_instances = df_neonatal[df_neonatal > tachycardia_threshold].stack().reset_index()\n",
    "tachycardia_instances.columns = [\"Row\", \"Column\", \"BPM\"]\n",
    "\n",
    "# Identify severe tachycardia instances (BPM > 200)\n",
    "severe_tachy_instances = tachycardia_instances[tachycardia_instances[\"BPM\"] > severe_tachycardia_threshold]\n",
    "\n",
    "# Print the detected tachycardia instances\n",
    "print(\"\\nTachycardia Instances (BPM > 160):\")\n",
    "print(tachycardia_instances)\n",
    "\n",
    "print(\"\\nSevere Tachycardia Instances (BPM > 230):\")\n",
    "print(severe_tachy_instances)\n"
   ]
  }
 ],
 "metadata": {
  "kernelspec": {
   "display_name": "Python 3",
   "language": "python",
   "name": "python3"
  },
  "language_info": {
   "codemirror_mode": {
    "name": "ipython",
    "version": 3
   },
   "file_extension": ".py",
   "mimetype": "text/x-python",
   "name": "python",
   "nbconvert_exporter": "python",
   "pygments_lexer": "ipython3",
   "version": "3.13.2"
  }
 },
 "nbformat": 4,
 "nbformat_minor": 2
}
