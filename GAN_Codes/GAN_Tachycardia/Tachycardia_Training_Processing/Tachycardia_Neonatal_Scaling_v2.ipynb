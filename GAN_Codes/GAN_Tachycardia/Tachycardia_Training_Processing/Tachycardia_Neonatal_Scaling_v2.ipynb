{
 "cells": [
  {
   "cell_type": "code",
   "execution_count": 31,
   "metadata": {},
   "outputs": [],
   "source": [
    "import pandas as pd\n",
    "import numpy as np"
   ]
  },
  {
   "cell_type": "code",
   "execution_count": 32,
   "metadata": {},
   "outputs": [],
   "source": [
    "# Load the bradycardia BPM dataset (to be rescaled for tachycardia)\n",
    "bpm_file = \"/home/Gurshan.R/Documents/GitHub/SYSC4907_Capstone/GAN_Tachycardia/CSV_DATA/BPM_8hr_5min.csv\"\n",
    "df = pd.read_csv(bpm_file, header=None)  # Assuming no headers in file"
   ]
  },
  {
   "cell_type": "code",
   "execution_count": 33,
   "metadata": {},
   "outputs": [],
   "source": [
    "# Define original adult BPM ranges and the new neonatal tachycardia range\n",
    "adult_normal_range = (60, 100)\n",
    "adult_tachycardia_range = (70, 180)  # Lowered minimum to capture more tachycardia cases\n",
    "neonatal_normal_range = (100, 160)\n",
    "neonatal_tachycardia_range = (160, 250)  # Increased upper bound to allow higher BPM"
   ]
  },
  {
   "cell_type": "code",
   "execution_count": 34,
   "metadata": {},
   "outputs": [],
   "source": [
    "# Function to rescale values\n",
    "def rescale_bpm(data, old_min, old_max, new_min, new_max):\n",
    "    return ((data - old_min) / (old_max - old_min)) * (new_max - new_min) + new_min"
   ]
  },
  {
   "cell_type": "code",
   "execution_count": 35,
   "metadata": {},
   "outputs": [],
   "source": [
    "# Apply rescaling\n",
    "df_tachycardia = df.copy()\n",
    "\n",
    "# Scale normal BPM values (60-100) -> Neonatal normal range (100-160)\n",
    "df_tachycardia[df < 100] = rescale_bpm(df[df < 100], *adult_normal_range, *neonatal_normal_range)\n",
    "\n",
    "# Scale higher BPM values (≥70) -> Neonatal tachycardia range (160-250)\n",
    "df_tachycardia[df >= 70] = rescale_bpm(df[df >= 70], *adult_tachycardia_range, *neonatal_tachycardia_range)"
   ]
  },
  {
   "cell_type": "code",
   "execution_count": 36,
   "metadata": {},
   "outputs": [],
   "source": [
    "# **Artificially increase tachycardia cases**\n",
    "# Select 50% of normal BPM cases and force them into tachycardia\n",
    "normal_indices = df_tachycardia[df_tachycardia < 160].stack().index\n",
    "selected_indices = np.random.choice(len(normal_indices), int(len(normal_indices) * 0.5), replace=False)"
   ]
  },
  {
   "cell_type": "code",
   "execution_count": 37,
   "metadata": {},
   "outputs": [],
   "source": [
    "for idx in selected_indices:\n",
    "    row, col = normal_indices[idx]\n",
    "    df_tachycardia.iloc[row, col] = np.random.uniform(160, 230)  # Force into tachycardia range"
   ]
  },
  {
   "cell_type": "code",
   "execution_count": 38,
   "metadata": {},
   "outputs": [],
   "source": [
    "# Introduce additional random spikes to tachycardia\n",
    "tachycardia_mask = df_tachycardia > 160\n",
    "df_tachycardia[tachycardia_mask] += np.random.uniform(10, 30, size=df_tachycardia[tachycardia_mask].shape)"
   ]
  },
  {
   "cell_type": "code",
   "execution_count": 39,
   "metadata": {},
   "outputs": [
    {
     "name": "stdout",
     "output_type": "stream",
     "text": [
      "Neonatal Tachycardia BPM data saved: /home/Gurshan.R/Documents/GitHub/SYSC4907_Capstone/GAN_Tachycardia/Scaled_CSV_DATA/BPM_Tachycardia_8hr_5min_Neonatal.csv\n"
     ]
    }
   ],
   "source": [
    "# Save the rescaled neonatal tachycardia dataset\n",
    "tachycardia_bpm_file = \"/home/Gurshan.R/Documents/GitHub/SYSC4907_Capstone/GAN_Tachycardia/Scaled_CSV_DATA/BPM_Tachycardia_8hr_5min_Neonatal.csv\"\n",
    "df_tachycardia.to_csv(tachycardia_bpm_file, index=False)\n",
    "\n",
    "print(f\"Neonatal Tachycardia BPM data saved: {tachycardia_bpm_file}\")"
   ]
  },
  {
   "cell_type": "code",
   "execution_count": 40,
   "metadata": {},
   "outputs": [
    {
     "name": "stdout",
     "output_type": "stream",
     "text": [
      "\n",
      "Tachycardia Instances (BPM > 160):\n",
      "     Row  Column         BPM\n",
      "0      0       0  174.090720\n",
      "1      0       1  179.262172\n",
      "2      0       2  187.323823\n",
      "3      0       3  181.719542\n",
      "4      0       4  190.133405\n",
      "..   ...     ...         ...\n",
      "894    9      89  194.214730\n",
      "895    9      90  193.226792\n",
      "896    9      91  188.610369\n",
      "897    9      94  185.824385\n",
      "898    9      95  199.535901\n",
      "\n",
      "[899 rows x 3 columns]\n",
      "\n",
      "Severe Tachycardia Instances (BPM > 230):\n",
      "     Row  Column         BPM\n",
      "92     0      93  249.292086\n",
      "187    1      93  247.596973\n",
      "286    3       0  230.639862\n",
      "288    3       3  245.889865\n",
      "296    3      13  248.612717\n",
      "366    3      89  235.960289\n",
      "372    4       1  230.270913\n",
      "445    4      78  233.903581\n",
      "473    5      12  248.688302\n",
      "515    5      58  242.292618\n",
      "523    5      67  238.312492\n",
      "536    5      81  254.398746\n",
      "846    9      29  243.380629\n",
      "848    9      32  240.581303\n",
      "858    9      42  236.945619\n",
      "868    9      54  243.064245\n",
      "891    9      84  237.149102\n"
     ]
    }
   ],
   "source": [
    "import pandas as pd\n",
    "\n",
    "# Load the neonatal BPM dataset for tachycardia\n",
    "neonatal_bpm_file = \"/home/Gurshan.R/Documents/GitHub/SYSC4907_Capstone/GAN_Tachycardia/Scaled_CSV_DATA/BPM_Tachycardia_8hr_5min_Neonatal.csv\"\n",
    "df_neonatal = pd.read_csv(neonatal_bpm_file, header=None)\n",
    "\n",
    "# Remove the first row if it contains index-like values\n",
    "if (df_neonatal.iloc[0] == range(96)).all():  # Check if first row is just index values\n",
    "    df_neonatal = df_neonatal.iloc[1:].reset_index(drop=True)  # Remove it\n",
    "\n",
    "# Convert to numeric to ensure proper processing\n",
    "df_neonatal = df_neonatal.apply(pd.to_numeric, errors=\"coerce\")\n",
    "\n",
    "# Define neonatal tachycardia thresholds\n",
    "tachycardia_threshold = 160\n",
    "severe_tachycardia_threshold = 230\n",
    "\n",
    "# Identify tachycardia instances (BPM > 160)\n",
    "tachycardia_instances = df_neonatal[df_neonatal > tachycardia_threshold].stack().reset_index()\n",
    "tachycardia_instances.columns = [\"Row\", \"Column\", \"BPM\"]\n",
    "\n",
    "# Identify severe tachycardia instances (BPM > 200)\n",
    "severe_tachy_instances = tachycardia_instances[tachycardia_instances[\"BPM\"] > severe_tachycardia_threshold]\n",
    "\n",
    "# Print the detected tachycardia instances\n",
    "print(\"\\nTachycardia Instances (BPM > 160):\")\n",
    "print(tachycardia_instances)\n",
    "\n",
    "print(\"\\nSevere Tachycardia Instances (BPM > 230):\")\n",
    "print(severe_tachy_instances)\n"
   ]
  }
 ],
 "metadata": {
  "kernelspec": {
   "display_name": "Python 3",
   "language": "python",
   "name": "python3"
  },
  "language_info": {
   "codemirror_mode": {
    "name": "ipython",
    "version": 3
   },
   "file_extension": ".py",
   "mimetype": "text/x-python",
   "name": "python",
   "nbconvert_exporter": "python",
   "pygments_lexer": "ipython3",
   "version": "3.13.2"
  }
 },
 "nbformat": 4,
 "nbformat_minor": 2
}
